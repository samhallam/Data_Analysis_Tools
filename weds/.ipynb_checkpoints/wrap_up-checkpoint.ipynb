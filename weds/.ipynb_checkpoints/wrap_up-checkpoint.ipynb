{
 "cells": [
  {
   "cell_type": "markdown",
   "metadata": {},
   "source": [
    "# Wrap up"
   ]
  },
  {
   "cell_type": "markdown",
   "metadata": {},
   "source": [
    "## Other Python packages you might be interested in:\n",
    "\n",
    "\n",
    "## CIS - Community Intercomparison suite\n",
    "\n",
    "## Iris - Met Office Python library for Meteorology and Climatology\n",
    "\n",
    "## matplotlib - Python plotting package\n",
    "\n",
    "## cartopy - map transform library\n",
    "\n",
    "## numpy - the fundamental package for scientific computing with Python\n",
    "\n",
    "## Pandas -  makes working with “relational” or “labeled” data both easy and intuitive\n",
    "\n",
    "## scipy -  user-friendly and efficient numerical routines \n",
    "\n",
    "## xarray - N-D labeled arrays and datasets in Python\n",
    "\n",
    "\n",
    "\n",
    "\n",
    "\n",
    "\n"
   ]
  },
  {
   "cell_type": "code",
   "execution_count": null,
   "metadata": {
    "collapsed": true
   },
   "outputs": [],
   "source": [
    "\n",
    "\n",
    "\n"
   ]
  },
  {
   "cell_type": "markdown",
   "metadata": {},
   "source": [
    "# On jasmin@ceda\n",
    "## python2.7\n",
    "\n",
    "# Archer\n",
    "## module load anaconda/2.2.0-python2 cf\n",
    "## module swap PrgEnv-cray PrgEnv-intel\n",
    "\n",
    "# On a Linux laptop: \n",
    "# Download and install Anaconda Python 2.7 for Linux. \n",
    "## On the command line type:\n",
    "## conda install -c ncas -c scitools cf-python cf-plot\n",
    "## conda install -c conda-forge -c nesii netcdf-fortran=4.4.4 mpich esmpy\n",
    "\n",
    "\n"
   ]
  },
  {
   "cell_type": "code",
   "execution_count": null,
   "metadata": {
    "collapsed": true
   },
   "outputs": [],
   "source": [
    "\n",
    "\n",
    "\n",
    "\n"
   ]
  },
  {
   "cell_type": "markdown",
   "metadata": {},
   "source": [
    "# Any questions to:\n",
    "\n",
    "# cf-python: David Hassell david.hassell@ncas.ac.uk\n",
    "\n",
    "# regridding: Charles Roberts c.j.roberts@reading.ac.uk\n",
    "\n",
    "# cf-plot: Andy Heaps andy.heaps@ncas.ac.uk"
   ]
  },
  {
   "cell_type": "code",
   "execution_count": null,
   "metadata": {
    "collapsed": true
   },
   "outputs": [],
   "source": []
  }
 ],
 "metadata": {
  "anaconda-cloud": {},
  "kernelspec": {
   "display_name": "Python 2",
   "language": "python",
   "name": "python2"
  },
  "language_info": {
   "codemirror_mode": {
    "name": "ipython",
    "version": 2
   },
   "file_extension": ".py",
   "mimetype": "text/x-python",
   "name": "python",
   "nbconvert_exporter": "python",
   "pygments_lexer": "ipython2",
   "version": "2.7.15"
  }
 },
 "nbformat": 4,
 "nbformat_minor": 1
}
