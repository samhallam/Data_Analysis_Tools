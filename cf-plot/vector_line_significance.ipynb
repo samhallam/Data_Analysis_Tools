{
 "cells": [
  {
   "cell_type": "markdown",
   "metadata": {},
   "source": [
    "# Vector, line and significance plots\n"
   ]
  },
  {
   "cell_type": "markdown",
   "metadata": {},
   "source": [
    "# cfp.vect - vector plots\n",
    "\n"
   ]
  },
  {
   "cell_type": "code",
   "execution_count": null,
   "metadata": {},
   "outputs": [],
   "source": [
    "# Inline images in Ipython Notebook - not needed in Python\n",
    "%matplotlib inline\n",
    "\n",
    "# Turn off warnings\n",
    "import warnings\n",
    "warnings.filterwarnings(\"ignore\")\n",
    "\n",
    "# Import cf-python and cf-plot packages\n",
    "import cf\n",
    "import cfplot as cfp"
   ]
  },
  {
   "cell_type": "code",
   "execution_count": null,
   "metadata": {},
   "outputs": [],
   "source": [
    "# Select u and v wind components at 500mb and make a vector plot\n",
    "f=cf.read('ncas_data/data1.nc')\n",
    "u=f[7].subspace(pressure=500)\n",
    "v=f[9].subspace(pressure=500)\n",
    "cfp.mapset(0, 360, -90, 90)\n",
    "cfp.mapset()\n",
    "cfp.vect(u=u, v=v, key_length=10, scale=100)\n"
   ]
  },
  {
   "cell_type": "code",
   "execution_count": null,
   "metadata": {},
   "outputs": [],
   "source": [
    "# In the example above we have too many points for the vectors to be discernable \n",
    "# We can use a stride of 4 in plotting the vectors to thin out the vectors\n",
    "cfp.vect(u=u, v=v, key_length=10, scale=100, stride=4)"
   ]
  },
  {
   "cell_type": "code",
   "execution_count": null,
   "metadata": {},
   "outputs": [],
   "source": [
    "# The pts parameter controls the interpolation of the vectors to a new grid\n",
    "# One value will give the same number of points in both directions\n",
    "cfp.vect(u=u, v=v, key_length=10, scale=100, pts=50)"
   ]
  },
  {
   "cell_type": "code",
   "execution_count": null,
   "metadata": {},
   "outputs": [],
   "source": [
    "# Two values gives different nuymbers of points in each direction\n",
    "cfp.vect(u=u, v=v, key_length=10, scale=100, pts=[50, 25])"
   ]
  },
  {
   "cell_type": "code",
   "execution_count": null,
   "metadata": {},
   "outputs": [],
   "source": [
    "# When making polar stereographic plots use the pts keyword to cfp.vect \n",
    "# to specify the number of interpolated points in x and y\n",
    "cfp.mapset(proj='npstere')\n",
    "cfp.vect(u=u, v=v, key_length=10, scale=100, pts=50)"
   ]
  },
  {
   "cell_type": "code",
   "execution_count": null,
   "metadata": {},
   "outputs": [],
   "source": [
    "# Vectors can have different lengths and scales as in the example below\n",
    "c=cf.read('ncas_data/vaAMIPlcd_DJF.nc')[0]\n",
    "c=c.subspace(Y=cf.wi(-60,60))\n",
    "c=c.subspace(X=cf.wi(80,160))\n",
    "c=c.collapse('T: mean X: mean')\n",
    "\n",
    "g=cf.read('ncas_data/wapAMIPlcd_DJF.nc')[0]\n",
    "g=g.subspace(Y=cf.wi(-60,60))\n",
    "g=g.subspace(X=cf.wi(80,160))\n",
    "g=g.collapse('T: mean X: mean')\n",
    "\n",
    "cfp.vect(u=c, v=-g, key_length=[5, 0.05], scale=[20,0.2], title='DJF', key_location=[0.95, -0.05])"
   ]
  },
  {
   "cell_type": "code",
   "execution_count": null,
   "metadata": {},
   "outputs": [],
   "source": [
    "# Making overlaying plots\n",
    "# In this case we will make a vector plot overlaying a contour plot\n",
    "# Plots overlaying each other or multiple plots on a page need to be\n",
    "# enclosed within a cfp.gopen() cfp.gclose() pair.  See additional\n",
    "# material on multiple plots in the cf-plot directory.\n",
    "\n",
    "import cf, cfplot as cfp\n",
    "f=cf.read('../ncas_data/data1.nc')\n",
    "u=f[7].subspace(pressure=500)\n",
    "v=f[9].subspace(pressure=500)\n",
    "t=f[2].subspace(pressure=500)\n",
    "\n",
    "cfp.gopen()\n",
    "cfp.mapset(lonmin=10, lonmax=120, latmin=-30, latmax=30)\n",
    "cfp.levs(min=254, max=270, step=1)\n",
    "cfp.con(t)\n",
    "cfp.vect(u=u, v=v, key_length=10, scale=50, stride=2)\n",
    "cfp.gclose()"
   ]
  },
  {
   "cell_type": "markdown",
   "metadata": {},
   "source": [
    "# cfp-lineplot - making line plots\n",
    "\n"
   ]
  },
  {
   "cell_type": "code",
   "execution_count": null,
   "metadata": {},
   "outputs": [],
   "source": [
    "# Read in some temerature data and convert to Celsius\n",
    "f = cf.read('ncas_data/data1.nc')[2]\n",
    "f = f.collapse('mean','longitude')\n",
    "f.Units -= 273.15"
   ]
  },
  {
   "cell_type": "code",
   "execution_count": null,
   "metadata": {},
   "outputs": [],
   "source": [
    "# Reset the plotting limits\n",
    "cfp.gset()"
   ]
  },
  {
   "cell_type": "code",
   "execution_count": null,
   "metadata": {},
   "outputs": [],
   "source": [
    "f.item('latitude').array"
   ]
  },
  {
   "cell_type": "code",
   "execution_count": null,
   "metadata": {},
   "outputs": [],
   "source": [
    "# We cannot select on one of these values as they are Gaussian latitudes\n",
    "# and numeric representation rounding comes into effect\n",
    "g=f.subspace(latitude=0.56074494)\n",
    "\n"
   ]
  },
  {
   "cell_type": "code",
   "execution_count": null,
   "metadata": {},
   "outputs": [],
   "source": [
    "# Set a lower matching tolerance value\n",
    "tol=cf.RTOL(1e-5)\n",
    "g=f.subspace(latitude=0.56074494)\n",
    "cfp.lineplot(g)\n"
   ]
  },
  {
   "cell_type": "code",
   "execution_count": null,
   "metadata": {},
   "outputs": [],
   "source": [
    "cfp.gopen()\n",
    "cfp.gset(xmin=-100,xmax=30, ymin=1000, ymax=0)\n",
    "yticks=[1000, 900,800,700, 600,500,400,300,200,100,0]\n",
    "cfp.lineplot(f.subspace(latitude=0.56074494), label='0.56074494', color='b')\n",
    "cfp.lineplot(f.subspace(latitude=70.09268951), label='70.09268951', color='g', yticks=yticks)\n",
    "cfp.lineplot(f.subspace(latitude=-62.24246216), label='-62.24246216', color='r')\n",
    "cfp.gclose()"
   ]
  },
  {
   "cell_type": "markdown",
   "metadata": {},
   "source": [
    "# cfp.stipple - Significance plots\n",
    "## plotting areas of significance with coloured symbols"
   ]
  },
  {
   "cell_type": "code",
   "execution_count": null,
   "metadata": {},
   "outputs": [],
   "source": [
    "cfp.mapset()\n",
    "cfp.levs()\n",
    "f=cf.read('ncas_data/data4.nc')[0]\n",
    "g=f.subspace(time=15)\n",
    "cfp.gopen()\n",
    "cfp.cscale('magma')\n",
    "cfp.con(g)\n",
    "cfp.stipple(f=g, min=265, max=295, size=100, color='#00ff00')\n",
    "cfp.gclose()"
   ]
  },
  {
   "cell_type": "code",
   "execution_count": null,
   "metadata": {},
   "outputs": [],
   "source": [
    "f=cf.read('ncas_data/data4.nc')[0]\n",
    "g=f.subspace(time=15)\n",
    "cfp.mapset(proj='npstere')\n",
    "cfp.gopen()\n",
    "cfp.cscale('magma')\n",
    "cfp.con(g)\n",
    "cfp.stipple(f=g, min=265, max=295, size=100, color='#00ff00')\n",
    "cfp.gclose()\n",
    "\n",
    "\n"
   ]
  },
  {
   "cell_type": "code",
   "execution_count": null,
   "metadata": {},
   "outputs": [],
   "source": []
  }
 ],
 "metadata": {
  "anaconda-cloud": {},
  "kernelspec": {
   "display_name": "Python 2",
   "language": "python",
   "name": "python2"
  },
  "language_info": {
   "codemirror_mode": {
    "name": "ipython",
    "version": 2
   },
   "file_extension": ".py",
   "mimetype": "text/x-python",
   "name": "python",
   "nbconvert_exporter": "python",
   "pygments_lexer": "ipython2",
   "version": "2.7.15"
  }
 },
 "nbformat": 4,
 "nbformat_minor": 1
}
