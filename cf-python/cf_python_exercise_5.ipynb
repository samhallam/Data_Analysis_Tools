{
 "cells": [
  {
   "cell_type": "markdown",
   "metadata": {},
   "source": [
    "# cf-python exercises 5\n",
    "\n",
    "## grouped collapses and climatological time collapses"
   ]
  },
  {
   "cell_type": "code",
   "execution_count": null,
   "metadata": {
    "collapsed": true
   },
   "outputs": [],
   "source": [
    "# import the cf package\n"
   ]
  },
  {
   "cell_type": "code",
   "execution_count": null,
   "metadata": {
    "collapsed": true
   },
   "outputs": [],
   "source": [
    "# Read the field from file ncas_data/IPSL-CM5A-LR_r1i1p1_tas_n96_rcp45_mnth.nc\n",
    "# This contains a monthly timeseries from 1959-12-01 to 1969-12-01\n"
   ]
  },
  {
   "cell_type": "code",
   "execution_count": null,
   "metadata": {
    "collapsed": true
   },
   "outputs": [],
   "source": [
    "# Create a timeseries of seasonal (DJF, MAM, JJA, SON) means\n",
    "# (set \"group=cf.seasons()\" as a parameter of the collapse method)\n"
   ]
  },
  {
   "cell_type": "code",
   "execution_count": null,
   "metadata": {
    "collapsed": true
   },
   "outputs": [],
   "source": [
    "# Create a timeseries of seasonal (JFMA, MJJA, SOND) means\n",
    "# (use the \"n\" and \"start\" parameters of the cf.seasons function)\n"
   ]
  },
  {
   "cell_type": "code",
   "execution_count": null,
   "metadata": {
    "collapsed": true
   },
   "outputs": [],
   "source": [
    "# Create a timeseries similar to that of the previous cell\n",
    "# (i.e. of seasonal (JFMA, MJJA, SOND) means), but which now\n",
    "# excludes averaging periods of less that 4 months\n",
    "# (set \"group_span=cf.M(4)\" as a parameter of the collapse method)\n"
   ]
  },
  {
   "cell_type": "code",
   "execution_count": null,
   "metadata": {
    "collapsed": true
   },
   "outputs": [],
   "source": [
    "# Find the multiannual average of the seasonal (DJF, MAM, JJA, SON) minima and\n",
    "# plot the result for JJA \n",
    "# (use the special argument 'T: minimum within years T: mean over years' to\n",
    "# the field's \"collapse\" method.\n",
    "# This also requires the \"within_years\" parameter to define over which periods\n",
    "# to take the minima within each year. Set this parameter to cf.seasons(), which\n",
    "# will specify the four seasons of DJF, MAM, JJA, SON)\n"
   ]
  },
  {
   "cell_type": "code",
   "execution_count": null,
   "metadata": {
    "collapsed": true
   },
   "outputs": [],
   "source": [
    "# Print the values of the time coordiantes and the time coordinate bounds.\n",
    "# Note that the bounds span the full 10 years,\n",
    "# but the coordinate values themselves lie in the season of the first year\n"
   ]
  }
 ],
 "metadata": {
  "anaconda-cloud": {},
  "kernelspec": {
   "display_name": "Python 2",
   "language": "python",
   "name": "python2"
  },
  "language_info": {
   "codemirror_mode": {
    "name": "ipython",
    "version": 2
   },
   "file_extension": ".py",
   "mimetype": "text/x-python",
   "name": "python",
   "nbconvert_exporter": "python",
   "pygments_lexer": "ipython2",
   "version": "2.7.14"
  }
 },
 "nbformat": 4,
 "nbformat_minor": 2
}
