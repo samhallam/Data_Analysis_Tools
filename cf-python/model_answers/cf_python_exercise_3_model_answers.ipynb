{
 "cells": [
  {
   "cell_type": "markdown",
   "metadata": {},
   "source": [
    "# cf-python exercises 3\n",
    "\n",
    "## collapse"
   ]
  },
  {
   "cell_type": "code",
   "execution_count": null,
   "metadata": {},
   "outputs": [],
   "source": [
    "# import the cf package\n",
    "import cf\n",
    "cf.__version__"
   ]
  },
  {
   "cell_type": "code",
   "execution_count": null,
   "metadata": {},
   "outputs": [],
   "source": [
    "# Read the field from file ncas_data/IPSL-CM5A-LR_r1i1p1_tas_n96_rcp45_mnth.nc\n",
    "f = cf.read('ncas_data/IPSL-CM5A-LR_r1i1p1_tas_n96_rcp45_mnth.nc')[0]\n",
    "f"
   ]
  },
  {
   "cell_type": "code",
   "execution_count": null,
   "metadata": {},
   "outputs": [],
   "source": [
    "# Find the temporal variance at each XY location and plot the result\n",
    "# (use the field's \"collapse\" method with the argument 'T: variance')\n",
    "v = f.collapse('T: variance')\n",
    "print v\n",
    "\n",
    "%matplotlib inline\n",
    "# Turn off warnings\n",
    "import warnings\n",
    "warnings.filterwarnings(\"ignore\")\n",
    "\n",
    "import cfplot as cfp\n",
    "cfp.con(v)"
   ]
  },
  {
   "cell_type": "code",
   "execution_count": null,
   "metadata": {},
   "outputs": [],
   "source": [
    "# Find the time mean at each X-Y point\n",
    "# (use the field's \"collapse\" method wit the argument 'T: mean')\n",
    "t_mean = f.collapse('T: mean')\n",
    "print t_mean"
   ]
  },
  {
   "cell_type": "code",
   "execution_count": null,
   "metadata": {},
   "outputs": [],
   "source": [
    "# Calculate the global mean for each time and print the values for the first 12 times\n",
    "# (use specify the operation as 'X: Y: mean', or equivalently 'area: mean')\n",
    "x = f.collapse('X: Y: mean')\n",
    "print x.array[:12]"
   ]
  },
  {
   "cell_type": "code",
   "execution_count": null,
   "metadata": {},
   "outputs": [],
   "source": [
    "# Calculate the weighted global mean for each time and print the valuesfor the first 12 times\n",
    "# (use the \"weights\" parameter of the field's collapse method with the\n",
    "# value ['X', 'Y'] or equivelently the value 'area')\n",
    "x = f.collapse('area: mean', weights='area')\n",
    "print x.array[:12]"
   ]
  },
  {
   "cell_type": "code",
   "execution_count": null,
   "metadata": {},
   "outputs": [],
   "source": [
    "# For each time find the range spanned by the zonal weighted means \n",
    "# (use the argument \"'X: mean Y: range'\" and the parameter \"weights='X'\")\n",
    "g = f.collapse('X: mean Y: range', weights='X')\n",
    "print g\n",
    "print g.data"
   ]
  },
  {
   "cell_type": "code",
   "execution_count": null,
   "metadata": {},
   "outputs": [],
   "source": [
    "# Find the weighted temporal minimum of the latitudinal maxima of the longitudinal means \n",
    "print f\n",
    "g = f.collapse('X: mean Y: max T: minimum', weights=['X', 'Y', 'T'])\n",
    "print g.array"
   ]
  },
  {
   "cell_type": "markdown",
   "metadata": {},
   "source": [
    "## Calculate anomalies from the mean"
   ]
  },
  {
   "cell_type": "code",
   "execution_count": null,
   "metadata": {},
   "outputs": [],
   "source": [
    "# Find the time average at each X-Y location, weighted by month lengths\n",
    "t_mean = f.collapse('T: mean', weights='T')\n",
    "print t_mean"
   ]
  },
  {
   "cell_type": "code",
   "execution_count": null,
   "metadata": {},
   "outputs": [],
   "source": [
    "# For each element of the original field, calculate the anomaly from the temporal mean\n",
    "# and print its array of values \n",
    "# (use simple subtraction)\n",
    "t_anom = f - t_mean\n",
    "print t_anom\n",
    "print t_anom.array"
   ]
  },
  {
   "cell_type": "code",
   "execution_count": null,
   "metadata": {},
   "outputs": [],
   "source": [
    "# Plot the anomaly from the mean for the month of April 1966\n",
    "# (April 1966 may be specified as cf.month(4) & cf.year(1966))\n",
    "cfp.con(t_anom.subspace(T=cf.month(4) & cf.year(1966)))"
   ]
  },
  {
   "cell_type": "markdown",
   "metadata": {},
   "source": [
    "## Climatological time statistics"
   ]
  },
  {
   "cell_type": "code",
   "execution_count": null,
   "metadata": {},
   "outputs": [],
   "source": [
    "# Find the multiannual average of the seasonal (DJF, MAM, etc.) minima and plot the result for JJA \n",
    "# (use the special argument 'T: minimum within years T: mean over years' to the field's \"collapse\" method.\n",
    "#  This also requires the \"within_years\" parameter to define over which periods to take the minima within each year.\n",
    "#  Set this parameter to cf.seasons(), which will specify the four seasons of DJF, MAM, JJA, SON)\n",
    "g = f.collapse('T: minimum within years T: mean over years', within_years=cf.seasons())\n",
    "print g\n",
    "cfp.con(g.subspace(T=cf.month(cf.wi(6, 8))), title='JJA 1960 to 1969')"
   ]
  },
  {
   "cell_type": "code",
   "execution_count": null,
   "metadata": {},
   "outputs": [],
   "source": [
    "# Print the new field's time cordiante values and their bounds - note that the bounds span the full 10 years,\n",
    "# but the coordinate values themselves lie in the correct season of the first year\n",
    "print g.coord('T').dtarray\n",
    "print g.coord('T').bounds.dtarray"
   ]
  },
  {
   "cell_type": "markdown",
   "metadata": {},
   "source": [
    "## Cell methods: describing the variation of the quantity within cells\n",
    "\n",
    "http://cfconventions.org/Data/cf-conventions/cf-conventions-1.7/cf-conventions.html#cell-methods"
   ]
  },
  {
   "cell_type": "code",
   "execution_count": null,
   "metadata": {},
   "outputs": [],
   "source": [
    "# Inspect the original and new fields' cell methods, that describe the variation of the quantity within cells,\n",
    "# i.e. a record of the collapses that have been performed\n",
    "# (use the cell_methods attribute of the field)\n",
    "print f.cell_methods\n",
    "print g.cell_methods"
   ]
  },
  {
   "cell_type": "markdown",
   "metadata": {
    "collapsed": true
   },
   "source": [
    "## Cell areas and weights"
   ]
  },
  {
   "cell_type": "code",
   "execution_count": null,
   "metadata": {},
   "outputs": [],
   "source": [
    "# Find and plot the horizontal cell areas of the field\n",
    "# (use the field's \"cell_area\" method)\n",
    "area = f.cell_area()\n",
    "print area\n",
    "print area.array\n",
    "cfp.con(area)"
   ]
  },
  {
   "cell_type": "code",
   "execution_count": null,
   "metadata": {},
   "outputs": [],
   "source": [
    "# Find the weights used in time axis collapses\n",
    "# (use the field's weights method and teh cfp.lineplot function on the result)\n",
    "w = f.weights('T')\n",
    "print w\n",
    "print w.array\n",
    "cfp.lineplot(w)"
   ]
  },
  {
   "cell_type": "code",
   "execution_count": null,
   "metadata": {},
   "outputs": [],
   "source": [
    "# Find the weights used in area collapses\n",
    "# (use the field's weights method)\n",
    "w = f.weights('area')\n",
    "print w\n",
    "print w.array"
   ]
  },
  {
   "cell_type": "code",
   "execution_count": null,
   "metadata": {},
   "outputs": [],
   "source": [
    "# Look at the help page for the collapse method\n",
    "help(f.collapse)"
   ]
  }
 ],
 "metadata": {
  "anaconda-cloud": {},
  "kernelspec": {
   "display_name": "Python 2",
   "language": "python",
   "name": "python2"
  },
  "language_info": {
   "codemirror_mode": {
    "name": "ipython",
    "version": 2
   },
   "file_extension": ".py",
   "mimetype": "text/x-python",
   "name": "python",
   "nbconvert_exporter": "python",
   "pygments_lexer": "ipython2",
   "version": "2.7.14"
  }
 },
 "nbformat": 4,
 "nbformat_minor": 2
}
