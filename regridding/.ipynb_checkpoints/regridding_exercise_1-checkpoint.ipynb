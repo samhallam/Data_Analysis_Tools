{
 "cells": [
  {
   "cell_type": "code",
   "execution_count": 3,
   "metadata": {},
   "outputs": [],
   "source": [
    "# Inline images in IPython Notebook - not needed in Python\n",
    "%matplotlib inline\n",
    "\n",
    "# Turn off warnings\n",
    "import warnings\n",
    "warnings.filterwarnings(\"ignore\")"
   ]
  },
  {
   "cell_type": "code",
   "execution_count": 4,
   "metadata": {},
   "outputs": [],
   "source": [
    "# Import the cf and cfplot packages\n",
    "\n",
    "import cf, cfplot as cfp"
   ]
  },
  {
   "cell_type": "code",
   "execution_count": 5,
   "metadata": {},
   "outputs": [],
   "source": [
    "# Read in ncas_data/data2.nc (use the read_field function)\n",
    "\n",
    "f = cf.read('ncas_data/data2.nc')[0]"
   ]
  },
  {
   "cell_type": "code",
   "execution_count": 6,
   "metadata": {},
   "outputs": [
    {
     "name": "stdout",
     "output_type": "stream",
     "text": [
      "Field: air_temperature (ncvar%T)\n",
      "--------------------------------\n",
      "Data           : air_temperature(long_name:t(1), long_name:p(1), latitude(160), longitude(320)) K\n",
      "Axes           : long_name:t(1) = [1981-01-21T00:00:00Z]\n",
      "               : long_name:p(1) = [1000.0] mbar\n",
      "               : latitude(160) = [89.1415176392, ..., -89.1415176392] degrees_north\n",
      "               : longitude(320) = [0.0, ..., 358.875] degrees_east\n",
      "\n"
     ]
    }
   ],
   "source": [
    "# Examine the the data to see what fields are in the dataset and check the resolution\n",
    "\n",
    "print f"
   ]
  },
  {
   "cell_type": "code",
   "execution_count": 7,
   "metadata": {},
   "outputs": [],
   "source": [
    "# Read in ncas_data/data3.nc (use the read_field function)\n",
    "\n",
    "g = cf.read('ncas_data/data3.nc')[0]"
   ]
  },
  {
   "cell_type": "code",
   "execution_count": null,
   "metadata": {
    "collapsed": true
   },
   "outputs": [],
   "source": [
    "# Examine the data similarly\n",
    "print g\n"
   ]
  },
  {
   "cell_type": "code",
   "execution_count": null,
   "metadata": {
    "collapsed": true
   },
   "outputs": [],
   "source": [
    "# Try regridding the data3.nc field to the grid of data2.nc using the 'conservative' regridding method -\n",
    "# observe the resulting error\n",
    "h = g.regrids(f, method='conservative')\n"
   ]
  },
  {
   "cell_type": "code",
   "execution_count": null,
   "metadata": {
    "collapsed": true
   },
   "outputs": [],
   "source": [
    "# Regrid data3.nc to the grid of data2.nc using the 'bilinear' regridding method\n",
    "\n"
   ]
  },
  {
   "cell_type": "code",
   "execution_count": null,
   "metadata": {
    "collapsed": true
   },
   "outputs": [],
   "source": [
    "# Examine the result to check it is on the new grid\n",
    "\n"
   ]
  },
  {
   "cell_type": "code",
   "execution_count": null,
   "metadata": {
    "collapsed": true
   },
   "outputs": [],
   "source": [
    "# Find the difference between data2.nc and the regridded field\n",
    "\n"
   ]
  },
  {
   "cell_type": "code",
   "execution_count": null,
   "metadata": {
    "collapsed": true
   },
   "outputs": [],
   "source": [
    "# Make a contour plot of this difference\n",
    "\n"
   ]
  },
  {
   "cell_type": "code",
   "execution_count": null,
   "metadata": {
    "collapsed": true
   },
   "outputs": [],
   "source": [
    "# Get the latitude and longitude coordinates of data2.nc using the field's coord method\n",
    "\n"
   ]
  },
  {
   "cell_type": "code",
   "execution_count": null,
   "metadata": {
    "collapsed": true
   },
   "outputs": [],
   "source": [
    "# Create Voronoi bounds for each of the coordinates (use the coordinate's get_bounds method with create=True and\n",
    "# insert=True)\n",
    "\n"
   ]
  },
  {
   "cell_type": "code",
   "execution_count": null,
   "metadata": {
    "collapsed": true
   },
   "outputs": [],
   "source": [
    "# Perform the same operations for the field from data3.nc\n",
    "\n"
   ]
  },
  {
   "cell_type": "code",
   "execution_count": null,
   "metadata": {
    "collapsed": true
   },
   "outputs": [],
   "source": [
    "# Regrid data3.nc to the grid of data2.nc using the 'conservative' regridding method\n",
    "\n"
   ]
  },
  {
   "cell_type": "code",
   "execution_count": null,
   "metadata": {
    "collapsed": true
   },
   "outputs": [],
   "source": [
    "# Plot the difference between data2.nc and the regridded field\n",
    "\n"
   ]
  },
  {
   "cell_type": "code",
   "execution_count": null,
   "metadata": {
    "collapsed": true
   },
   "outputs": [],
   "source": [
    "# Try to find the difference between the conservatively regridded field and the bilinearly regridded field -\n",
    "# observe the error\n",
    "\n"
   ]
  },
  {
   "cell_type": "code",
   "execution_count": null,
   "metadata": {
    "collapsed": true
   },
   "outputs": [],
   "source": [
    "# The error occurs because the conservatively regridded field's latitute has bounds, but the bilinearly regridded\n",
    "# field's does not - delete the conservatively regridded field's latitude and longitude bounds by using del on the\n",
    "# coordinates' bounds properties\n",
    "\n"
   ]
  },
  {
   "cell_type": "code",
   "execution_count": null,
   "metadata": {
    "collapsed": true
   },
   "outputs": [],
   "source": [
    "# Plot the difference between the conservatively regridded field and the bilinearly regridded field\n",
    "\n"
   ]
  }
 ],
 "metadata": {
  "anaconda-cloud": {},
  "kernelspec": {
   "display_name": "Python 2",
   "language": "python",
   "name": "python2"
  },
  "language_info": {
   "codemirror_mode": {
    "name": "ipython",
    "version": 2
   },
   "file_extension": ".py",
   "mimetype": "text/x-python",
   "name": "python",
   "nbconvert_exporter": "python",
   "pygments_lexer": "ipython2",
   "version": "2.7.15"
  }
 },
 "nbformat": 4,
 "nbformat_minor": 1
}
