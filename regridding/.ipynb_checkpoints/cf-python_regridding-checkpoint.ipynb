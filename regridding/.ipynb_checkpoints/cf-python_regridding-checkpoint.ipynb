{
 "cells": [
  {
   "cell_type": "markdown",
   "metadata": {},
   "source": [
    "# cf-python Regridding"
   ]
  },
  {
   "cell_type": "markdown",
   "metadata": {},
   "source": [
    "* **Based on the ESMPy interface to the Earth System Modeling Framework (ESMF) library**\n",
    "* **Coordinate systems: Spherical (regrids) or Cartesian (regridc)**\n",
    "* **Regridding methods:**\n",
    "    * **First order conservative** - conserves integral of field with respect to area\n",
    "    * **Bilinear** - linear interpolation in 1-3 dimensions (2D for sperical coordinates)\n",
    "    * **Higher order patch recovery** - polynomial based so better values/derivatives\n",
    "    * **Nearest source to destination** - useful for integer fields such as land use\n",
    "    * **Nearest destination to source** - multiple source points can contribute to one destination point\n",
    "* **Global or regional source/destination grids in any combination**\n",
    "* **Handles grids with 2D latitudes and longitudes including curvilinear, rotated pole and some tripolar grids**\n",
    "* **Handles masking of both source and destination grids**"
   ]
  },
  {
   "cell_type": "markdown",
   "metadata": {},
   "source": [
    "## Spherical regridding (regrids)"
   ]
  },
  {
   "cell_type": "markdown",
   "metadata": {},
   "source": [
    "### Conservative regridding"
   ]
  },
  {
   "cell_type": "code",
   "execution_count": null,
   "metadata": {},
   "outputs": [],
   "source": [
    "# Inline images in IPython Notebook - not needed in Python\n",
    "%matplotlib inline\n",
    "\n",
    "# Turn off warnings\n",
    "import warnings\n",
    "warnings.filterwarnings(\"ignore\")"
   ]
  },
  {
   "cell_type": "code",
   "execution_count": null,
   "metadata": {},
   "outputs": [],
   "source": [
    "# Import the cf and cfplot packages\n",
    "import cf\n",
    "import cfplot as cfp"
   ]
  },
  {
   "cell_type": "code",
   "execution_count": null,
   "metadata": {},
   "outputs": [],
   "source": [
    "# Read in ncas_data/precip_2010.nc and inspect the field\n",
    "f = cf.read('ncas_data/precip_2010.nc')[0]\n",
    "print f"
   ]
  },
  {
   "cell_type": "code",
   "execution_count": null,
   "metadata": {},
   "outputs": [],
   "source": [
    "# Read in ncas_data/model_precip_DJF_means_low_res.nc and inspect the field\n",
    "g = cf.read('ncas_data/model_precip_DJF_means_low_res.nc')[0]\n",
    "print g"
   ]
  },
  {
   "cell_type": "code",
   "execution_count": null,
   "metadata": {},
   "outputs": [],
   "source": [
    "# Regrid the first field to the grid of the second and inspect the results\n",
    "h = f.regrids(g, method='conservative')\n",
    "print h"
   ]
  },
  {
   "cell_type": "code",
   "execution_count": null,
   "metadata": {},
   "outputs": [],
   "source": [
    "# Plot before and after\n",
    "cfp.gopen(rows=1, columns=2)\n",
    "cfp.gpos(1)\n",
    "cfp.con(f[0], blockfill=True, lines=False, colorbar_label_skip=2)\n",
    "cfp.gpos(2)\n",
    "cfp.con(h[0], blockfill=True, lines=False, colorbar_label_skip=2)\n",
    "cfp.gclose()"
   ]
  },
  {
   "cell_type": "markdown",
   "metadata": {
    "collapsed": true
   },
   "source": [
    "### Regridding from a tripolar grid"
   ]
  },
  {
   "cell_type": "markdown",
   "metadata": {},
   "source": [
    "![alt text](https://www.gfdl.noaa.gov/wp-content/uploads/pix/user_images/mw/bipolar.gif \"Tripolar Grid\")"
   ]
  },
  {
   "cell_type": "code",
   "execution_count": null,
   "metadata": {},
   "outputs": [],
   "source": [
    "# Read in ncas_data/tripolar.nc and select and inspect a field\n",
    "f = cf.read('ncas_data/tripolar.nc')[0]\n",
    "print f"
   ]
  },
  {
   "cell_type": "code",
   "execution_count": null,
   "metadata": {},
   "outputs": [],
   "source": [
    "# Read in ncas_data/model_precip_DJF_means.nc and inspect the field\n",
    "g = cf.read('ncas_data/model_precip_DJF_means.nc')[0]\n",
    "print g"
   ]
  },
  {
   "cell_type": "code",
   "execution_count": null,
   "metadata": {},
   "outputs": [],
   "source": [
    "# Regrid the field on the tripolar grid to the regular lat-long grid\n",
    "h = f.regrids(g, method='bilinear', src_axes={'X': 'ncdim%x', 'Y': 'ncdim%y'}, src_cyclic=True)\n",
    "print h"
   ]
  },
  {
   "cell_type": "code",
   "execution_count": null,
   "metadata": {},
   "outputs": [],
   "source": [
    "# Plot the regridded data\n",
    "cfp.levs(min=-1.0, max=1.2, step=0.2)\n",
    "cfp.con(h)"
   ]
  },
  {
   "cell_type": "markdown",
   "metadata": {},
   "source": [
    "### Higher order patch recovery versus bilinear regridding"
   ]
  },
  {
   "cell_type": "code",
   "execution_count": null,
   "metadata": {},
   "outputs": [],
   "source": [
    "# Read in ncas_data/data5.nc and inspect the field\n",
    "f = cf.read('ncas_data/data5.nc')[0].subspace[0, 0]\n",
    "print f"
   ]
  },
  {
   "cell_type": "code",
   "execution_count": null,
   "metadata": {},
   "outputs": [],
   "source": [
    "cfp.levs()\n",
    "cfp.con(f)"
   ]
  },
  {
   "cell_type": "code",
   "execution_count": null,
   "metadata": {},
   "outputs": [],
   "source": [
    "# Read in ncas_data/model_precip_DJF_means_low_res.nc and inspect the field\n",
    "g = cf.read('ncas_data/model_precip_DJF_means_low_res.nc')[0]\n",
    "print g"
   ]
  },
  {
   "cell_type": "code",
   "execution_count": null,
   "metadata": {},
   "outputs": [],
   "source": [
    "# Regrid the first field to the grid of the second using bilinear interpolation\n",
    "h = f.regrids(g, method='bilinear')\n",
    "print h"
   ]
  },
  {
   "cell_type": "code",
   "execution_count": null,
   "metadata": {},
   "outputs": [],
   "source": [
    "# Regrid the first field to the grid of the second using higher order patch recovery\n",
    "i = f.regrids(g, method='patch')\n",
    "print i"
   ]
  },
  {
   "cell_type": "code",
   "execution_count": null,
   "metadata": {},
   "outputs": [],
   "source": [
    "# Find the y derivatives of the regridded fields\n",
    "deriv_h = h.derivative('Y')\n",
    "deriv_h.units = 'm.s-1.degrees-1'\n",
    "deriv_i = i.derivative('Y')\n",
    "deriv_i.units = 'm.s-1.degrees-1'"
   ]
  },
  {
   "cell_type": "code",
   "execution_count": null,
   "metadata": {},
   "outputs": [],
   "source": [
    "# Plot the regridded fields and the differences between the derivatives\n",
    "cfp.gopen(rows=1, columns=3)\n",
    "cfp.gpos(1)\n",
    "cfp.con(h, colorbar_label_skip=2, title='Bilinear')\n",
    "cfp.gpos(2)\n",
    "cfp.con(i, colorbar_label_skip=2, title='Higher order patch recovery')\n",
    "cfp.gpos(3)\n",
    "cfp.levs(min=-0.06, max=0.06, step=0.02)\n",
    "cfp.cscale('scale1')\n",
    "cfp.con(deriv_i - deriv_h, blockfill=True, lines=False, colorbar_label_skip=2, title='Difference of derivatives')\n",
    "cfp.gclose()"
   ]
  },
  {
   "cell_type": "markdown",
   "metadata": {},
   "source": [
    "### Regridding an integer field using the nearest neighbour method"
   ]
  },
  {
   "cell_type": "code",
   "execution_count": null,
   "metadata": {},
   "outputs": [],
   "source": [
    "# Read in ncas_data/regions_low_res.nc and inspect the field\n",
    "f = cf.read('ncas_data/regions.nc')[0]\n",
    "print f"
   ]
  },
  {
   "cell_type": "code",
   "execution_count": null,
   "metadata": {},
   "outputs": [],
   "source": [
    "# Read in ncas_data/model_precip_DJF_means_low_res.nc and inspect the field\n",
    "g = cf.read('ncas_data/model_precip_DJF_means_low_res.nc')[0]\n",
    "print g"
   ]
  },
  {
   "cell_type": "code",
   "execution_count": null,
   "metadata": {},
   "outputs": [],
   "source": [
    "# Regrid regions to model grid using nearest source to destination regridding and inspect the result\n",
    "h = f.regrids(g, method='nearest_stod')\n",
    "print h"
   ]
  },
  {
   "cell_type": "code",
   "execution_count": null,
   "metadata": {},
   "outputs": [],
   "source": [
    "# Plot before and after\n",
    "cfp.gopen(rows=1, columns=2)\n",
    "cfp.levs(min=1, max=10, step=1)\n",
    "cfp.cscale()\n",
    "cfp.gpos(1)\n",
    "cfp.con(f, blockfill=True, lines=False)\n",
    "cfp.gpos(2)\n",
    "cfp.con(h, blockfill=True, lines=False)\n",
    "cfp.gclose()"
   ]
  },
  {
   "cell_type": "markdown",
   "metadata": {},
   "source": [
    "### Regridding with constructed coordinates"
   ]
  },
  {
   "cell_type": "code",
   "execution_count": null,
   "metadata": {},
   "outputs": [],
   "source": [
    "# Read in ncas_data/precip_2010.nc and inspect the field\n",
    "f = cf.read('ncas_data/precip_2010.nc')[0]\n",
    "print f"
   ]
  },
  {
   "cell_type": "code",
   "execution_count": null,
   "metadata": {},
   "outputs": [],
   "source": [
    "# Create dimension coordinates for the destination grid\n",
    "import numpy as np\n",
    "lon = cf.DimensionCoordinate(data=cf.Data(np.arange(-33, 64, 2.0), 'degrees_east'))\n",
    "lat = cf.DimensionCoordinate(data=cf.Data(np.arange(-90, 91, 2.0), 'degrees_north'))"
   ]
  },
  {
   "cell_type": "code",
   "execution_count": null,
   "metadata": {},
   "outputs": [],
   "source": [
    "# Create Voronoi bounds for the new dimension coordinates\n",
    "lon.get_bounds(create=True, insert=True)\n",
    "lat.get_bounds(create=True, insert=True)"
   ]
  },
  {
   "cell_type": "code",
   "execution_count": null,
   "metadata": {},
   "outputs": [],
   "source": [
    "# Regrid the field to the grid of the new coordinates bilinearly and inspect the resulting field\n",
    "g = f.regrids({'longitude': lon, 'latitude': lat}, method='conservative')\n",
    "print g"
   ]
  },
  {
   "cell_type": "code",
   "execution_count": null,
   "metadata": {},
   "outputs": [],
   "source": [
    "# Plot before and after\n",
    "cfp.gopen(rows=1, columns=2)\n",
    "cfp.levs()\n",
    "cfp.gpos(1)\n",
    "cfp.con(f[0], blockfill=True, lines=False, colorbar_label_skip=2)\n",
    "cfp.gpos(2)\n",
    "cfp.con(g[0], blockfill=True, lines=False, colorbar_label_skip=2)\n",
    "cfp.gclose()"
   ]
  },
  {
   "cell_type": "markdown",
   "metadata": {},
   "source": [
    "## Cartesian regridding (regridc)"
   ]
  },
  {
   "cell_type": "markdown",
   "metadata": {},
   "source": [
    "### Regridding a time series"
   ]
  },
  {
   "cell_type": "code",
   "execution_count": null,
   "metadata": {},
   "outputs": [],
   "source": [
    "# Read in ncas_data/precip_1D_yearly.nc and inspect the field\n",
    "f = cf.read('ncas_data/precip_1D_yearly.nc')[0]\n",
    "print f"
   ]
  },
  {
   "cell_type": "code",
   "execution_count": null,
   "metadata": {},
   "outputs": [],
   "source": [
    "# Read in ncas_data/precip_1D_monthly.nc and inspect the field\n",
    "g = cf.read('ncas_data/precip_1D_monthly.nc')[0]\n",
    "print g"
   ]
  },
  {
   "cell_type": "code",
   "execution_count": null,
   "metadata": {},
   "outputs": [],
   "source": [
    "# Regrid the first field to the grid of the second linearly and summarize the resulting field\n",
    "h = f.regridc(g, axes='T', method='bilinear')\n",
    "print h"
   ]
  },
  {
   "cell_type": "code",
   "execution_count": null,
   "metadata": {},
   "outputs": [],
   "source": [
    "# Plot before and after\n",
    "cfp.gopen(rows=1, columns=2)\n",
    "cfp.gpos(1)\n",
    "cfp.lineplot(f, marker='o', color='red')\n",
    "cfp.gpos(2)\n",
    "cfp.lineplot(h, marker='o', color='blue')\n",
    "cfp.gclose()"
   ]
  },
  {
   "cell_type": "markdown",
   "metadata": {
    "collapsed": true
   },
   "source": [
    "### 2D cartesian regridding"
   ]
  },
  {
   "cell_type": "code",
   "execution_count": null,
   "metadata": {},
   "outputs": [],
   "source": [
    "# Read in ncas_data/u_216.nc and inspect the field\n",
    "f = cf.read('ncas_data/u_n216.nc')[0]\n",
    "print f"
   ]
  },
  {
   "cell_type": "code",
   "execution_count": null,
   "metadata": {},
   "outputs": [],
   "source": [
    "# Read in ncas_data/u_96.nc and inspect the field\n",
    "g = cf.read('ncas_data/u_n96.nc')[0]\n",
    "print g"
   ]
  },
  {
   "cell_type": "code",
   "execution_count": null,
   "metadata": {},
   "outputs": [],
   "source": [
    "# Save the pressure corodinates and their keys\n",
    "p_src = f.dim('Z').copy()\n",
    "src_key = f.dim('Z', key=True)\n",
    "p_dst = g.dim('Z').copy()\n",
    "dst_key = g.dim('Z', key=True)"
   ]
  },
  {
   "cell_type": "code",
   "execution_count": null,
   "metadata": {},
   "outputs": [],
   "source": [
    "# Take the log of the pressures\n",
    "f.dim('Z').log(base=10, i=True)\n",
    "g.dim('Z').log(base=10, i=True)"
   ]
  },
  {
   "cell_type": "code",
   "execution_count": null,
   "metadata": {},
   "outputs": [],
   "source": [
    "# Regrid the source field and inspect the result\n",
    "h = f.regridc(g, axes=('Y', 'Z'), method='bilinear')\n",
    "print h"
   ]
  },
  {
   "cell_type": "code",
   "execution_count": null,
   "metadata": {},
   "outputs": [],
   "source": [
    "# Insert the saved destination pressure coordinate into the regridded field\n",
    "key = h.dim('Z', key=True)\n",
    "h.insert_dim(p_dst, key=key)\n",
    "print h"
   ]
  },
  {
   "cell_type": "code",
   "execution_count": null,
   "metadata": {},
   "outputs": [],
   "source": [
    "# Reinsert the saved pressure coordinates into the original fields\n",
    "f.insert_dim(p_src, key=src_key)\n",
    "g.insert_dim(p_dst, key=dst_key)"
   ]
  },
  {
   "cell_type": "code",
   "execution_count": null,
   "metadata": {},
   "outputs": [],
   "source": [
    "# Plot before and after\n",
    "cfp.con(f, title='n216', ylog=True)\n",
    "cfp.con(g, title='regridded', ylog=True)"
   ]
  },
  {
   "cell_type": "code",
   "execution_count": null,
   "metadata": {},
   "outputs": [],
   "source": []
  }
 ],
 "metadata": {
  "anaconda-cloud": {},
  "kernelspec": {
   "display_name": "Python 2",
   "language": "python",
   "name": "python2"
  },
  "language_info": {
   "codemirror_mode": {
    "name": "ipython",
    "version": 2
   },
   "file_extension": ".py",
   "mimetype": "text/x-python",
   "name": "python",
   "nbconvert_exporter": "python",
   "pygments_lexer": "ipython2",
   "version": "2.7.15"
  }
 },
 "nbformat": 4,
 "nbformat_minor": 1
}
